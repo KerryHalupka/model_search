{
 "cells": [
  {
   "cell_type": "code",
   "execution_count": null,
   "metadata": {},
   "outputs": [],
   "source": [
    "import numpy as np\n",
    "import sys\n",
    "import yaml\n",
    "import os\n",
    "import datetime\n",
    "import pandas as pd\n",
    "from shutil import copyfile\n",
    "from sklearn.model_selection import StratifiedKFold, KFold\n",
    "from utils import generate_model_config, generate_gridsearch_configs, train_model, get_metrics\n",
    "\n",
    "sys.path.insert(0,'/anaconda3/envs/model_search/lib/python3.7/site-packages') #This is specific to my environment in order to import xgboost, proably not needed in others\n",
    "import xgboost"
   ]
  },
  {
   "cell_type": "markdown",
   "metadata": {},
   "source": [
    "### Import data"
   ]
  },
  {
   "cell_type": "markdown",
   "metadata": {},
   "source": [
    "I'm using a breast cancer dataset that comes pre-loaded with sklearn. To use your own dataset, replace these cells with code that loads your dataset (assuming that the test set has already been split out), and arranges it in to your features matrix X (rows are observations, columns are features), and labels/ground truth matrix y."
   ]
  },
  {
   "cell_type": "code",
   "execution_count": null,
   "metadata": {},
   "outputs": [],
   "source": [
    "from sklearn.datasets import load_breast_cancer\n",
    "data = load_breast_cancer()"
   ]
  },
  {
   "cell_type": "code",
   "execution_count": null,
   "metadata": {},
   "outputs": [],
   "source": [
    "X = data['data']\n",
    "y = data['target']\n",
    "print(f'shape of features matrix: {X.shape}')\n",
    "print(f'shape of labels matrix: {y.shape}')"
   ]
  },
  {
   "cell_type": "markdown",
   "metadata": {},
   "source": [
    "### Import configuration yaml"
   ]
  },
  {
   "cell_type": "markdown",
   "metadata": {},
   "source": [
    "This imports the configuration that defines what models will be trained and what metrics will be recorded. "
   ]
  },
  {
   "cell_type": "code",
   "execution_count": null,
   "metadata": {},
   "outputs": [],
   "source": [
    "model_type = 'classification' #classification or regression\n",
    "\n",
    "with open(f\"config_{model_type}.yaml\", 'r') as stream:\n",
    "    config_experiment = yaml.load(stream)\n",
    "    config_experiment['model_params'] = config_experiment['model_search']\n",
    "    config_experiment['model_type'] = model_type"
   ]
  },
  {
   "cell_type": "markdown",
   "metadata": {},
   "source": [
    "### Setup results folder"
   ]
  },
  {
   "cell_type": "markdown",
   "metadata": {},
   "source": [
    "Make a folder (with the current datetime as a name) to store results in. So that results aren't commited, the 'results' folder should be added to the .gitignore file"
   ]
  },
  {
   "cell_type": "code",
   "execution_count": null,
   "metadata": {},
   "outputs": [],
   "source": [
    "experiment_folder = os.path.join(f'../results/{model_type}', datetime.datetime.now().strftime('%Y%m%d_%H%M'))\n",
    "if not os.path.exists(experiment_folder):\n",
    "    print(f'Saving experiment output to {experiment_folder}')\n",
    "    os.makedirs(experiment_folder)\n",
    "else: \n",
    "    print(f'Folder {experiment_folder} already exists - overwriting contents.')\n",
    "    \n",
    "copyfile(f\"./config_{model_type}.yaml\", experiment_folder+f\"/config_{model_type}.yaml\") #copy yaml used to setup experiment\n",
    "copyfile('./grid_search_classification.ipynb', experiment_folder+\"/grid_search_classification.ipynb\")"
   ]
  },
  {
   "cell_type": "markdown",
   "metadata": {},
   "source": [
    "### Grid search"
   ]
  },
  {
   "cell_type": "markdown",
   "metadata": {},
   "source": [
    "Setup k-fold "
   ]
  },
  {
   "cell_type": "code",
   "execution_count": null,
   "metadata": {},
   "outputs": [],
   "source": [
    "if model_type == 'classification':\n",
    "    skf = StratifiedKFold(n_splits=config_experiment['cross_validation']['num_folds'])\n",
    "elif model_type == 'regression':\n",
    "    skf = KFold(n_splits=config_experiment['cross_validation']['num_folds'])"
   ]
  },
  {
   "cell_type": "markdown",
   "metadata": {},
   "source": [
    "Run grid search"
   ]
  },
  {
   "cell_type": "code",
   "execution_count": null,
   "metadata": {},
   "outputs": [],
   "source": [
    "grid_config = generate_model_config(config_experiment)\n",
    "index=0\n",
    "model_num=0\n",
    "results_df = pd.DataFrame()\n",
    "\n",
    "for class_path, parameters in generate_gridsearch_configs(grid_config):\n",
    "    print(f\"{index}. Training {class_path}\")\n",
    "    fold = 0\n",
    "    for train_index, test_index in skf.split(X, y):\n",
    "        # setup log\n",
    "        log = dict()\n",
    "        log['model_num'] = model_num\n",
    "        log['fold'] = fold\n",
    "        \n",
    "        # setup data\n",
    "        X_train, X_test = X[train_index], X[test_index]\n",
    "        y_train, y_test = y[train_index], y[test_index]\n",
    "          \n",
    "        # train model\n",
    "        trained_model, log = train_model(X_train, y_train, class_path, parameters, log)\n",
    "\n",
    "        # predict using trained model\n",
    "        # train set\n",
    "        log = get_metrics(X_train, y_train, trained_model, log, pred_type='train', config = config_experiment)\n",
    "        # validation set\n",
    "        log = get_metrics(X_test, y_test, trained_model, log, pred_type='val', config = config_experiment)\n",
    "          \n",
    "        # log results\n",
    "        tmp = pd.DataFrame(log, columns=log.keys(), index=[index])\n",
    "        results_df = results_df.append(tmp, sort=False)\n",
    "        results_df.to_pickle(f\"{experiment_folder}/results_df.pkl\")\n",
    "        fold+=1\n",
    "        index+=1\n",
    "        \n",
    "    model_num += 1"
   ]
  },
  {
   "cell_type": "code",
   "execution_count": null,
   "metadata": {},
   "outputs": [],
   "source": []
  }
 ],
 "metadata": {
  "language_info": {
   "name": "python",
   "pygments_lexer": "ipython3"
  }
 },
 "nbformat": 4,
 "nbformat_minor": 2
}
